{
 "cells": [
  {
   "cell_type": "markdown",
   "metadata": {},
   "source": [
    "# Final Project Submission\n",
    "\n",
    "Please fill out:\n",
    "* Student name: Henry Rono\n",
    "* Student pace: full time\n",
    "* Scheduled project review date/time: 22/032024\n",
    "* Instructor name: Mwikali.\n",
    "\n"
   ]
  },
  {
   "cell_type": "markdown",
   "metadata": {},
   "source": [
    "# Overview\n",
    "\n",
    "This project employs exploratory data analysis to extract valuable information for Microsoft, aiming to establish a new movie studio. By analyzing datasets from IMDB and Box Office Mojo, the project provides recommendations regarding the film genres that Microsoft should consider exploring.\n",
    "\n",
    "The success and popularity of each genre are evaluated using two key metrics: the total gross incomes and the critical response. The results suggest that Microsoft would benefit from concentrating on genres such as Sci-Fi, adventure, animation, and action, as these genres have demonstrated higher total gross income.\n",
    "\n",
    "Business Problem\n"
   ]
  },
  {
   "cell_type": "markdown",
   "metadata": {},
   "source": [
    "# Business Problem\n",
    "\n",
    "Microsoft is poised to step into the realm of original video content creation, gearing up to establish its own movie studio. However, the challenge lies in navigating an unfamiliar landscape, as the company lacks substantial experience in this domain. To address this, a comprehensive analysis of prevailing trends in successful films at the box office becomes imperative. This analysis aims to uncover valuable insights through exploratory data analysis, offering guidance to the leadership of Microsoft's nascent movie studio in making informed decisions regarding film genres and themes.\n",
    "\n",
    "Key Inquiries:\n",
    "\n",
    "Which movie genres exhibit the most robust financial performance in terms of box office gross?\n",
    "How do different movie genres fare in terms of average audience ratings?\n",
    "Is there any discernible correlation between a movie's average rating and its box office gross?\n",
    "How does the distribution of domestic and foreign box office gross vary over the years, categorized by movie release dates?\n",
    "By delving into these questions, Microsoft's movie studio head can gain actionable intelligence to shape the studio's content strategy and maximize its chances of success in the competitive entertainment industry landscape."
   ]
  },
  {
   "cell_type": "markdown",
   "metadata": {},
   "source": [
    "# Methodology"
   ]
  },
  {
   "cell_type": "markdown",
   "metadata": {},
   "source": [
    "# Data Exploration:\n",
    "\n",
    "1.**Explore Movie Genres**:  Analyze the distribution of movie genres in your datasets. You can visualize this using bar plots or pie charts to see which genres are most prevalent.\n",
    "\n",
    "2.**Financial Performance Analysis**: Calculate summary statistics for box office gross incomes. You can create visualizations such as box plots or histograms to understand the distribution of gross incomes across different genres.\n",
    "\n",
    "3.**Audience Ratings Analysis**: Explore the distribution of audience ratings and analyze how they vary across different genres. You can use histograms or KDE plots to visualize this.\n",
    "\n",
    "4.**Correlation Analysis**: Examine the correlation between audience ratings and box office gross incomes. This can be done using scatter plots or correlation matrices.\n",
    "\n",
    "5.**Box Office Gross Trends**: Analyze how the distribution of domestic and foreign box office gross incomes varies over the years. You can create line plots or bar plots to visualize these trends."
   ]
  },
  {
   "cell_type": "markdown",
   "metadata": {},
   "source": [
    "# Data Cleaning:\n",
    "\n",
    "1.**Handle Missing Values**: Check for missing values in your datasets and decide how to handle them. This might involve imputation, dropping rows/columns, or other methods depending on the context.\n",
    "\n",
    "2.**Data Type Conversion**: Ensure that columns are of the correct data types for analysis. For example, dates should be in datetime format, numerical columns should be of numeric type, etc."
   ]
  },
  {
   "cell_type": "markdown",
   "metadata": {},
   "source": [
    "**Import Modules and Relevant Datasets**"
   ]
  },
  {
   "cell_type": "code",
   "execution_count": 6,
   "metadata": {},
   "outputs": [],
   "source": [
    "import pandas as pd\n",
    "import seaborn as sns\n",
    "import matplotlib.pyplot as plt"
   ]
  },
  {
   "cell_type": "code",
   "execution_count": 7,
   "metadata": {},
   "outputs": [
    {
     "data": {
      "text/html": [
       "<div>\n",
       "<style scoped>\n",
       "    .dataframe tbody tr th:only-of-type {\n",
       "        vertical-align: middle;\n",
       "    }\n",
       "\n",
       "    .dataframe tbody tr th {\n",
       "        vertical-align: top;\n",
       "    }\n",
       "\n",
       "    .dataframe thead th {\n",
       "        text-align: right;\n",
       "    }\n",
       "</style>\n",
       "<table border=\"1\" class=\"dataframe\">\n",
       "  <thead>\n",
       "    <tr style=\"text-align: right;\">\n",
       "      <th></th>\n",
       "      <th>tconst</th>\n",
       "      <th>primary_title</th>\n",
       "      <th>original_title</th>\n",
       "      <th>start_year</th>\n",
       "      <th>runtime_minutes</th>\n",
       "      <th>genres</th>\n",
       "    </tr>\n",
       "  </thead>\n",
       "  <tbody>\n",
       "    <tr>\n",
       "      <th>0</th>\n",
       "      <td>tt0063540</td>\n",
       "      <td>Sunghursh</td>\n",
       "      <td>Sunghursh</td>\n",
       "      <td>2013</td>\n",
       "      <td>175.0</td>\n",
       "      <td>Action,Crime,Drama</td>\n",
       "    </tr>\n",
       "    <tr>\n",
       "      <th>1</th>\n",
       "      <td>tt0066787</td>\n",
       "      <td>One Day Before the Rainy Season</td>\n",
       "      <td>Ashad Ka Ek Din</td>\n",
       "      <td>2019</td>\n",
       "      <td>114.0</td>\n",
       "      <td>Biography,Drama</td>\n",
       "    </tr>\n",
       "    <tr>\n",
       "      <th>2</th>\n",
       "      <td>tt0069049</td>\n",
       "      <td>The Other Side of the Wind</td>\n",
       "      <td>The Other Side of the Wind</td>\n",
       "      <td>2018</td>\n",
       "      <td>122.0</td>\n",
       "      <td>Drama</td>\n",
       "    </tr>\n",
       "    <tr>\n",
       "      <th>3</th>\n",
       "      <td>tt0069204</td>\n",
       "      <td>Sabse Bada Sukh</td>\n",
       "      <td>Sabse Bada Sukh</td>\n",
       "      <td>2018</td>\n",
       "      <td>NaN</td>\n",
       "      <td>Comedy,Drama</td>\n",
       "    </tr>\n",
       "    <tr>\n",
       "      <th>4</th>\n",
       "      <td>tt0100275</td>\n",
       "      <td>The Wandering Soap Opera</td>\n",
       "      <td>La Telenovela Errante</td>\n",
       "      <td>2017</td>\n",
       "      <td>80.0</td>\n",
       "      <td>Comedy,Drama,Fantasy</td>\n",
       "    </tr>\n",
       "    <tr>\n",
       "      <th>...</th>\n",
       "      <td>...</td>\n",
       "      <td>...</td>\n",
       "      <td>...</td>\n",
       "      <td>...</td>\n",
       "      <td>...</td>\n",
       "      <td>...</td>\n",
       "    </tr>\n",
       "    <tr>\n",
       "      <th>146139</th>\n",
       "      <td>tt9916538</td>\n",
       "      <td>Kuambil Lagi Hatiku</td>\n",
       "      <td>Kuambil Lagi Hatiku</td>\n",
       "      <td>2019</td>\n",
       "      <td>123.0</td>\n",
       "      <td>Drama</td>\n",
       "    </tr>\n",
       "    <tr>\n",
       "      <th>146140</th>\n",
       "      <td>tt9916622</td>\n",
       "      <td>Rodolpho Teóphilo - O Legado de um Pioneiro</td>\n",
       "      <td>Rodolpho Teóphilo - O Legado de um Pioneiro</td>\n",
       "      <td>2015</td>\n",
       "      <td>NaN</td>\n",
       "      <td>Documentary</td>\n",
       "    </tr>\n",
       "    <tr>\n",
       "      <th>146141</th>\n",
       "      <td>tt9916706</td>\n",
       "      <td>Dankyavar Danka</td>\n",
       "      <td>Dankyavar Danka</td>\n",
       "      <td>2013</td>\n",
       "      <td>NaN</td>\n",
       "      <td>Comedy</td>\n",
       "    </tr>\n",
       "    <tr>\n",
       "      <th>146142</th>\n",
       "      <td>tt9916730</td>\n",
       "      <td>6 Gunn</td>\n",
       "      <td>6 Gunn</td>\n",
       "      <td>2017</td>\n",
       "      <td>116.0</td>\n",
       "      <td>NaN</td>\n",
       "    </tr>\n",
       "    <tr>\n",
       "      <th>146143</th>\n",
       "      <td>tt9916754</td>\n",
       "      <td>Chico Albuquerque - Revelações</td>\n",
       "      <td>Chico Albuquerque - Revelações</td>\n",
       "      <td>2013</td>\n",
       "      <td>NaN</td>\n",
       "      <td>Documentary</td>\n",
       "    </tr>\n",
       "  </tbody>\n",
       "</table>\n",
       "<p>146144 rows × 6 columns</p>\n",
       "</div>"
      ],
      "text/plain": [
       "           tconst                                primary_title  \\\n",
       "0       tt0063540                                    Sunghursh   \n",
       "1       tt0066787              One Day Before the Rainy Season   \n",
       "2       tt0069049                   The Other Side of the Wind   \n",
       "3       tt0069204                              Sabse Bada Sukh   \n",
       "4       tt0100275                     The Wandering Soap Opera   \n",
       "...           ...                                          ...   \n",
       "146139  tt9916538                          Kuambil Lagi Hatiku   \n",
       "146140  tt9916622  Rodolpho Teóphilo - O Legado de um Pioneiro   \n",
       "146141  tt9916706                              Dankyavar Danka   \n",
       "146142  tt9916730                                       6 Gunn   \n",
       "146143  tt9916754               Chico Albuquerque - Revelações   \n",
       "\n",
       "                                     original_title  start_year  \\\n",
       "0                                         Sunghursh        2013   \n",
       "1                                   Ashad Ka Ek Din        2019   \n",
       "2                        The Other Side of the Wind        2018   \n",
       "3                                   Sabse Bada Sukh        2018   \n",
       "4                             La Telenovela Errante        2017   \n",
       "...                                             ...         ...   \n",
       "146139                          Kuambil Lagi Hatiku        2019   \n",
       "146140  Rodolpho Teóphilo - O Legado de um Pioneiro        2015   \n",
       "146141                              Dankyavar Danka        2013   \n",
       "146142                                       6 Gunn        2017   \n",
       "146143               Chico Albuquerque - Revelações        2013   \n",
       "\n",
       "        runtime_minutes                genres  \n",
       "0                 175.0    Action,Crime,Drama  \n",
       "1                 114.0       Biography,Drama  \n",
       "2                 122.0                 Drama  \n",
       "3                   NaN          Comedy,Drama  \n",
       "4                  80.0  Comedy,Drama,Fantasy  \n",
       "...                 ...                   ...  \n",
       "146139            123.0                 Drama  \n",
       "146140              NaN           Documentary  \n",
       "146141              NaN                Comedy  \n",
       "146142            116.0                   NaN  \n",
       "146143              NaN           Documentary  \n",
       "\n",
       "[146144 rows x 6 columns]"
      ]
     },
     "execution_count": 7,
     "metadata": {},
     "output_type": "execute_result"
    }
   ],
   "source": [
    "imdb_title_basics = pd.read_csv('imdb.title.basics.csv.gz')\n",
    "imdb_title_basics"
   ]
  },
  {
   "cell_type": "markdown",
   "metadata": {},
   "source": [
    "# Step1.Load the Data"
   ]
  },
  {
   "cell_type": "markdown",
   "metadata": {},
   "source": [
    "**Let's start by loading the IMDb dataset imdb_title_basics.**"
   ]
  },
  {
   "cell_type": "code",
   "execution_count": 8,
   "metadata": {},
   "outputs": [],
   "source": [
    "import pandas as pd\n",
    "\n",
    "# Load the IMDb dataset\n",
    "imdb_title_basics = pd.read_csv('imdb.title.basics.csv.gz')\n",
    "imdb_ratings = pd.read_csv('imdb.title.ratings.csv.gz')\n",
    "movie_gross = pd.read_csv('bom.movie_gross.csv.gz')"
   ]
  },
  {
   "cell_type": "code",
   "execution_count": 9,
   "metadata": {},
   "outputs": [],
   "source": [
    "def df_inspect(df):\n",
    "    \"\"\"\n",
    "    Takes a DataFrame as input, and displays the head, info, and sum of all null values for each column in that DataFrame\n",
    "    \"\"\"\n",
    "    return (display(df.head()), \n",
    "            display(df.info()), \n",
    "            display(df.isna().sum()))"
   ]
  },
  {
   "cell_type": "code",
   "execution_count": 10,
   "metadata": {},
   "outputs": [
    {
     "data": {
      "text/html": [
       "<div>\n",
       "<style scoped>\n",
       "    .dataframe tbody tr th:only-of-type {\n",
       "        vertical-align: middle;\n",
       "    }\n",
       "\n",
       "    .dataframe tbody tr th {\n",
       "        vertical-align: top;\n",
       "    }\n",
       "\n",
       "    .dataframe thead th {\n",
       "        text-align: right;\n",
       "    }\n",
       "</style>\n",
       "<table border=\"1\" class=\"dataframe\">\n",
       "  <thead>\n",
       "    <tr style=\"text-align: right;\">\n",
       "      <th></th>\n",
       "      <th>title</th>\n",
       "      <th>studio</th>\n",
       "      <th>domestic_gross</th>\n",
       "      <th>foreign_gross</th>\n",
       "      <th>year</th>\n",
       "    </tr>\n",
       "  </thead>\n",
       "  <tbody>\n",
       "    <tr>\n",
       "      <th>0</th>\n",
       "      <td>Toy Story 3</td>\n",
       "      <td>BV</td>\n",
       "      <td>415000000.0</td>\n",
       "      <td>652000000</td>\n",
       "      <td>2010</td>\n",
       "    </tr>\n",
       "    <tr>\n",
       "      <th>1</th>\n",
       "      <td>Alice in Wonderland (2010)</td>\n",
       "      <td>BV</td>\n",
       "      <td>334200000.0</td>\n",
       "      <td>691300000</td>\n",
       "      <td>2010</td>\n",
       "    </tr>\n",
       "    <tr>\n",
       "      <th>2</th>\n",
       "      <td>Harry Potter and the Deathly Hallows Part 1</td>\n",
       "      <td>WB</td>\n",
       "      <td>296000000.0</td>\n",
       "      <td>664300000</td>\n",
       "      <td>2010</td>\n",
       "    </tr>\n",
       "    <tr>\n",
       "      <th>3</th>\n",
       "      <td>Inception</td>\n",
       "      <td>WB</td>\n",
       "      <td>292600000.0</td>\n",
       "      <td>535700000</td>\n",
       "      <td>2010</td>\n",
       "    </tr>\n",
       "    <tr>\n",
       "      <th>4</th>\n",
       "      <td>Shrek Forever After</td>\n",
       "      <td>P/DW</td>\n",
       "      <td>238700000.0</td>\n",
       "      <td>513900000</td>\n",
       "      <td>2010</td>\n",
       "    </tr>\n",
       "  </tbody>\n",
       "</table>\n",
       "</div>"
      ],
      "text/plain": [
       "                                         title studio  domestic_gross  \\\n",
       "0                                  Toy Story 3     BV     415000000.0   \n",
       "1                   Alice in Wonderland (2010)     BV     334200000.0   \n",
       "2  Harry Potter and the Deathly Hallows Part 1     WB     296000000.0   \n",
       "3                                    Inception     WB     292600000.0   \n",
       "4                          Shrek Forever After   P/DW     238700000.0   \n",
       "\n",
       "  foreign_gross  year  \n",
       "0     652000000  2010  \n",
       "1     691300000  2010  \n",
       "2     664300000  2010  \n",
       "3     535700000  2010  \n",
       "4     513900000  2010  "
      ]
     },
     "metadata": {},
     "output_type": "display_data"
    },
    {
     "name": "stdout",
     "output_type": "stream",
     "text": [
      "<class 'pandas.core.frame.DataFrame'>\n",
      "RangeIndex: 3387 entries, 0 to 3386\n",
      "Data columns (total 5 columns):\n",
      " #   Column          Non-Null Count  Dtype  \n",
      "---  ------          --------------  -----  \n",
      " 0   title           3387 non-null   object \n",
      " 1   studio          3382 non-null   object \n",
      " 2   domestic_gross  3359 non-null   float64\n",
      " 3   foreign_gross   2037 non-null   object \n",
      " 4   year            3387 non-null   int64  \n",
      "dtypes: float64(1), int64(1), object(3)\n",
      "memory usage: 132.4+ KB\n"
     ]
    },
    {
     "data": {
      "text/plain": [
       "None"
      ]
     },
     "metadata": {},
     "output_type": "display_data"
    },
    {
     "data": {
      "text/plain": [
       "title                0\n",
       "studio               5\n",
       "domestic_gross      28\n",
       "foreign_gross     1350\n",
       "year                 0\n",
       "dtype: int64"
      ]
     },
     "metadata": {},
     "output_type": "display_data"
    },
    {
     "data": {
      "text/plain": [
       "(None, None, None)"
      ]
     },
     "execution_count": 10,
     "metadata": {},
     "output_type": "execute_result"
    }
   ],
   "source": [
    "#inspect movie_gross dataframe\n",
    "df_inspect(movie_gross)"
   ]
  },
  {
   "cell_type": "markdown",
   "metadata": {},
   "source": [
    "From the above output, DataFrame imdb_title_basics contains 146144 rows and 6 columns.\n",
    "\n",
    "Imdb site also reveals additional info about the title of each columns:\n",
    "\n",
    "*tconst (string) - alphanumeric unique identifier of the title\n",
    "\n",
    "*primaryTitle (string) – the more popular title / the title used by the filmmakers on promotional materials at the point of release\n",
    "\n",
    "*originalTitle (string) - original title, in the original language\n",
    "\n",
    "*startYear (YYYY) – represents the release year of a title. In the case of TV Series, it is the series start year\n",
    "\n",
    "*runtimeMinutes – primary runtime of the title(duration), in minutes\n",
    "\n",
    "*genres (string array) – includes up to three genres associated with the title"
   ]
  },
  {
   "cell_type": "markdown",
   "metadata": {},
   "source": [
    "**Check for missing values**\n",
    "\n",
    "We create a simple loop to create a list of the entries with missing values for each column of a dataset."
   ]
  },
  {
   "cell_type": "code",
   "execution_count": 11,
   "metadata": {},
   "outputs": [
    {
     "name": "stdout",
     "output_type": "stream",
     "text": [
      "Missing Values in movie_gross:\n",
      "title                0\n",
      "studio               5\n",
      "domestic_gross      28\n",
      "foreign_gross     1350\n",
      "year                 0\n",
      "dtype: int64 \n",
      " ----\n",
      "\n",
      "Missing Values in imdb_title_basic:\n",
      "tconst                 0\n",
      "primary_title          1\n",
      "original_title        22\n",
      "start_year             0\n",
      "runtime_minutes    31739\n",
      "genres              5408\n",
      "dtype: int64 \n",
      " ----\n",
      "\n",
      "Missing Values in imdb_ratings:\n",
      "tconst           0\n",
      "averagerating    0\n",
      "numvotes         0\n",
      "dtype: int64 \n",
      " ----\n",
      "\n"
     ]
    }
   ],
   "source": [
    "df_list=  [movie_gross,imdb_title_basics, imdb_ratings]\n",
    "df_list_names = ['Missing Values in movie_gross','Missing Values in imdb_title_basic','Missing Values in imdb_ratings']\n",
    "for i, n in zip(df_list, df_list_names):\n",
    "    print(f'{n}:')\n",
    "    print(i.isna().sum(), '\\n ----\\n') "
   ]
  },
  {
   "cell_type": "markdown",
   "metadata": {},
   "source": [
    "All datasets contain missing values except the `imdb_rating` . This means we will deal with the missing values of the rest datasets.\n",
    "\n",
    "For Movie_gross dataset , we can conclude movie entries with null values did not have domestic gross neither foreign income for that year, hence replacing the value with 0. This occurs for domestic_gross and foreign_gross .\n",
    "\n",
    "Studio column contains 5 missing values, we replace this with None"
   ]
  },
  {
   "cell_type": "markdown",
   "metadata": {},
   "source": [
    "**Questions:**\n",
    "    \n",
    "1.What is the size of the dataset (number of rows and columns)?\n",
    "\n",
    "2.What are the first few rows of the dataset to understand its structure?"
   ]
  },
  {
   "cell_type": "code",
   "execution_count": 12,
   "metadata": {},
   "outputs": [
    {
     "name": "stdout",
     "output_type": "stream",
     "text": [
      "Dataset Size (rows, columns): (146144, 6)\n",
      "      tconst                    primary_title              original_title  \\\n",
      "0  tt0063540                        Sunghursh                   Sunghursh   \n",
      "1  tt0066787  One Day Before the Rainy Season             Ashad Ka Ek Din   \n",
      "2  tt0069049       The Other Side of the Wind  The Other Side of the Wind   \n",
      "3  tt0069204                  Sabse Bada Sukh             Sabse Bada Sukh   \n",
      "4  tt0100275         The Wandering Soap Opera       La Telenovela Errante   \n",
      "\n",
      "   start_year  runtime_minutes                genres  \n",
      "0        2013            175.0    Action,Crime,Drama  \n",
      "1        2019            114.0       Biography,Drama  \n",
      "2        2018            122.0                 Drama  \n",
      "3        2018              NaN          Comedy,Drama  \n",
      "4        2017             80.0  Comedy,Drama,Fantasy  \n"
     ]
    }
   ],
   "source": [
    "# Check the size of the dataset\n",
    "print(\"Dataset Size (rows, columns):\", imdb_title_basics.shape)\n",
    "\n",
    "# Display the first few rows of the dataset\n",
    "print(imdb_title_basics.head())\n"
   ]
  },
  {
   "cell_type": "markdown",
   "metadata": {},
   "source": [
    "**Understanding IMDb Dataset**\n",
    "\n",
    "**.Dataset Size:** We checked the size of the IMDb dataset to understand its dimensions. The dataset contains a certain number of rows and columns, giving us an idea of its overall scope.\n",
    "\n",
    "**.Previewing the Data:** We displayed the first few rows of the dataset to get a glimpse of its contents. This helps us understand the structure of the data and what information it contains."
   ]
  },
  {
   "cell_type": "markdown",
   "metadata": {},
   "source": [
    "# Step2.Handle Missing Values\n",
    "\n",
    "Identify and handle missing values appropriately. Depending on the context, options may include imputation, dropping rows/columns, or other methods.\n",
    "\n"
   ]
  },
  {
   "cell_type": "markdown",
   "metadata": {},
   "source": [
    "**Questions:**\n",
    "1.andHow many missing values are there in each column of the IMDb dataset?\n",
    "2.What proportion of the IMDb dataset consists of missing values?\n",
    "\n"
   ]
  },
  {
   "cell_type": "code",
   "execution_count": 13,
   "metadata": {},
   "outputs": [
    {
     "name": "stdout",
     "output_type": "stream",
     "text": [
      "Missing Values:\n",
      "tconst                 0\n",
      "primary_title          1\n",
      "original_title        22\n",
      "start_year             0\n",
      "runtime_minutes    31739\n",
      "genres              5408\n",
      "dtype: int64\n"
     ]
    }
   ],
   "source": [
    "# Check for missing values\n",
    "missing_values = imdb_title_basics.isnull().sum()\n",
    "print(\"Missing Values:\")\n",
    "print(missing_values)\n"
   ]
  },
  {
   "cell_type": "markdown",
   "metadata": {},
   "source": [
    "Calculating Proportion of Missing Values in IMDb Title Basics Dataset\n",
    "\n",
    "\n",
    "\n",
    "\n",
    "\n"
   ]
  },
  {
   "cell_type": "code",
   "execution_count": 14,
   "metadata": {},
   "outputs": [
    {
     "name": "stdout",
     "output_type": "stream",
     "text": [
      "Proportion of Missing Values: 4.2389697832275015\n"
     ]
    }
   ],
   "source": [
    "# Calculate the proportion of missing values\n",
    "total_cells = imdb_title_basics.size\n",
    "total_missing = missing_values.sum()\n",
    "proportion_missing = (total_missing / total_cells) * 100\n",
    "print(\"Proportion of Missing Values:\", proportion_missing)"
   ]
  },
  {
   "cell_type": "markdown",
   "metadata": {},
   "source": [
    " drop rows with missing values accornigly"
   ]
  },
  {
   "cell_type": "code",
   "execution_count": 16,
   "metadata": {},
   "outputs": [],
   "source": [
    "# Let's drop rows with missing values for now\n",
    "imdb_title_basics_cleaned = imdb_title_basics.dropna()\n",
    "\n",
    "# Check if missing values have been handled"
   ]
  },
  {
   "cell_type": "markdown",
   "metadata": {},
   "source": [
    "Let us identify and quantify the missing values in the IMDb Title Basics dataset\n",
    "\n",
    "\n",
    "\n",
    "\n",
    "\n"
   ]
  },
  {
   "cell_type": "code",
   "execution_count": 17,
   "metadata": {},
   "outputs": [
    {
     "name": "stdout",
     "output_type": "stream",
     "text": [
      "Missing Values:\n",
      "tconst                 0\n",
      "primary_title          1\n",
      "original_title        22\n",
      "start_year             0\n",
      "runtime_minutes    31739\n",
      "genres              5408\n",
      "dtype: int64\n"
     ]
    }
   ],
   "source": [
    "# Check for missing values\n",
    "missing_values = imdb_title_basics.isnull().sum()\n",
    "print(\"Missing Values:\")\n",
    "print(missing_values)\n"
   ]
  },
  {
   "cell_type": "markdown",
   "metadata": {},
   "source": [
    "**Understanding Missing Data Handling in IMDb Dataset**\n",
    "\n",
    "**Identifying Missing Data:** We checked the IMDb dataset for any missing information. This helps us ensure that our analysis is based on complete data.\n",
    "\n",
    "**Calculating Proportion of Missing Data:** We calculated the proportion of missing data to understand how much of our dataset is incomplete. This gives us an idea of the data's reliability.\n",
    "\n",
    "**Handling Missing Data:** We decided to remove rows with missing information for simplicity. This ensures that our analysis is based on complete and reliable data.\n",
    "\n",
    "**Verification:**After removing missing data, we double-checked to ensure that no missing values remained in our dataset."
   ]
  },
  {
   "cell_type": "markdown",
   "metadata": {},
   "source": [
    "**perform further analysis**\n",
    "\n",
    "1.Analyze the impact of missing values in the 'runtime_minutes' and 'genres' columns on our analysis.\n",
    "\n",
    "2.Investigate patterns in missing values across different years or genres.\n",
    "\n",
    "3.Compare the results obtained from imputation versus dropping missing values to understand their effects on the analysis."
   ]
  },
  {
   "cell_type": "code",
   "execution_count": 18,
   "metadata": {},
   "outputs": [
    {
     "name": "stdout",
     "output_type": "stream",
     "text": [
      "Summary statistics before handling missing values:\n",
      "       runtime_minutes\n",
      "count    114405.000000\n",
      "mean         86.187247\n",
      "std         166.360590\n",
      "min           1.000000\n",
      "25%          70.000000\n",
      "50%          87.000000\n",
      "75%          99.000000\n",
      "max       51420.000000\n",
      "\n",
      "\n"
     ]
    }
   ],
   "source": [
    "# 1. Analyze the impact of missing values in 'runtime_minutes' and 'genres' columns on our analysis\n",
    "\n",
    "# Before handling missing values\n",
    "print(\"Summary statistics before handling missing values:\")\n",
    "print(imdb_title_basics[['runtime_minutes']].describe())\n",
    "print(\"\\n\")"
   ]
  },
  {
   "cell_type": "markdown",
   "metadata": {},
   "source": [
    "`imdb_title_basics` has duplicate records based on the `primary_title` and the `start_year`. Some of the duplicate records have slightly different genres while others have missing values in either the runtime_minutes or genre columns.\n",
    "\n",
    "The duplicate records will be dropped, while keeping the entry with the least number of missing values."
   ]
  },
  {
   "cell_type": "code",
   "execution_count": 20,
   "metadata": {
    "scrolled": true
   },
   "outputs": [
    {
     "data": {
      "text/html": [
       "<div>\n",
       "<style scoped>\n",
       "    .dataframe tbody tr th:only-of-type {\n",
       "        vertical-align: middle;\n",
       "    }\n",
       "\n",
       "    .dataframe tbody tr th {\n",
       "        vertical-align: top;\n",
       "    }\n",
       "\n",
       "    .dataframe thead th {\n",
       "        text-align: right;\n",
       "    }\n",
       "</style>\n",
       "<table border=\"1\" class=\"dataframe\">\n",
       "  <thead>\n",
       "    <tr style=\"text-align: right;\">\n",
       "      <th></th>\n",
       "      <th>tconst</th>\n",
       "      <th>primary_title</th>\n",
       "      <th>original_title</th>\n",
       "      <th>start_year</th>\n",
       "      <th>runtime_minutes</th>\n",
       "      <th>genres</th>\n",
       "      <th>missing</th>\n",
       "    </tr>\n",
       "  </thead>\n",
       "  <tbody>\n",
       "    <tr>\n",
       "      <th>103890</th>\n",
       "      <td>tt6085916</td>\n",
       "      <td>(aguirre)</td>\n",
       "      <td>(aguirre)</td>\n",
       "      <td>2016</td>\n",
       "      <td>97.0</td>\n",
       "      <td>Biography,Documentary</td>\n",
       "      <td>0</td>\n",
       "    </tr>\n",
       "    <tr>\n",
       "      <th>106201</th>\n",
       "      <td>tt6214664</td>\n",
       "      <td>(aguirre)</td>\n",
       "      <td>(aguirre)</td>\n",
       "      <td>2016</td>\n",
       "      <td>98.0</td>\n",
       "      <td>Biography,Comedy,Documentary</td>\n",
       "      <td>0</td>\n",
       "    </tr>\n",
       "    <tr>\n",
       "      <th>129962</th>\n",
       "      <td>tt8032828</td>\n",
       "      <td>100 Milioni di bracciate</td>\n",
       "      <td>100 Milioni di bracciate</td>\n",
       "      <td>2017</td>\n",
       "      <td>NaN</td>\n",
       "      <td>Biography</td>\n",
       "      <td>1</td>\n",
       "    </tr>\n",
       "    <tr>\n",
       "      <th>129979</th>\n",
       "      <td>tt8034014</td>\n",
       "      <td>100 Milioni di bracciate</td>\n",
       "      <td>100 Milioni di bracciate</td>\n",
       "      <td>2017</td>\n",
       "      <td>NaN</td>\n",
       "      <td>Biography</td>\n",
       "      <td>1</td>\n",
       "    </tr>\n",
       "    <tr>\n",
       "      <th>20394</th>\n",
       "      <td>tt1855110</td>\n",
       "      <td>180</td>\n",
       "      <td>180</td>\n",
       "      <td>2011</td>\n",
       "      <td>121.0</td>\n",
       "      <td>Drama,Romance</td>\n",
       "      <td>0</td>\n",
       "    </tr>\n",
       "    <tr>\n",
       "      <th>24194</th>\n",
       "      <td>tt1979163</td>\n",
       "      <td>180</td>\n",
       "      <td>180</td>\n",
       "      <td>2011</td>\n",
       "      <td>107.0</td>\n",
       "      <td>Comedy,Drama</td>\n",
       "      <td>0</td>\n",
       "    </tr>\n",
       "    <tr>\n",
       "      <th>65431</th>\n",
       "      <td>tt3735338</td>\n",
       "      <td>1989</td>\n",
       "      <td>1989</td>\n",
       "      <td>2014</td>\n",
       "      <td>54.0</td>\n",
       "      <td>Documentary</td>\n",
       "      <td>0</td>\n",
       "    </tr>\n",
       "    <tr>\n",
       "      <th>72121</th>\n",
       "      <td>tt4119270</td>\n",
       "      <td>1989</td>\n",
       "      <td>1989</td>\n",
       "      <td>2014</td>\n",
       "      <td>97.0</td>\n",
       "      <td>Documentary,History,Thriller</td>\n",
       "      <td>0</td>\n",
       "    </tr>\n",
       "    <tr>\n",
       "      <th>50212</th>\n",
       "      <td>tt2979366</td>\n",
       "      <td>21 Days</td>\n",
       "      <td>21 Days</td>\n",
       "      <td>2014</td>\n",
       "      <td>89.0</td>\n",
       "      <td>Horror,Thriller</td>\n",
       "      <td>0</td>\n",
       "    </tr>\n",
       "    <tr>\n",
       "      <th>75495</th>\n",
       "      <td>tt4312624</td>\n",
       "      <td>21 Days</td>\n",
       "      <td>21 den</td>\n",
       "      <td>2014</td>\n",
       "      <td>70.0</td>\n",
       "      <td>Documentary</td>\n",
       "      <td>0</td>\n",
       "    </tr>\n",
       "    <tr>\n",
       "      <th>86006</th>\n",
       "      <td>tt4981966</td>\n",
       "      <td>24</td>\n",
       "      <td>24</td>\n",
       "      <td>2016</td>\n",
       "      <td>164.0</td>\n",
       "      <td>Action,Sci-Fi,Thriller</td>\n",
       "      <td>0</td>\n",
       "    </tr>\n",
       "    <tr>\n",
       "      <th>98602</th>\n",
       "      <td>tt5765582</td>\n",
       "      <td>24</td>\n",
       "      <td>24</td>\n",
       "      <td>2016</td>\n",
       "      <td>NaN</td>\n",
       "      <td>Thriller</td>\n",
       "      <td>1</td>\n",
       "    </tr>\n",
       "    <tr>\n",
       "      <th>29202</th>\n",
       "      <td>tt2123129</td>\n",
       "      <td>3</td>\n",
       "      <td>3</td>\n",
       "      <td>2012</td>\n",
       "      <td>145.0</td>\n",
       "      <td>Drama,Mystery,Romance</td>\n",
       "      <td>0</td>\n",
       "    </tr>\n",
       "    <tr>\n",
       "      <th>38370</th>\n",
       "      <td>tt2379653</td>\n",
       "      <td>3</td>\n",
       "      <td>3</td>\n",
       "      <td>2012</td>\n",
       "      <td>115.0</td>\n",
       "      <td>Comedy,Drama</td>\n",
       "      <td>0</td>\n",
       "    </tr>\n",
       "    <tr>\n",
       "      <th>96327</th>\n",
       "      <td>tt5618160</td>\n",
       "      <td>3</td>\n",
       "      <td>3</td>\n",
       "      <td>2018</td>\n",
       "      <td>80.0</td>\n",
       "      <td>Horror,Mystery,Thriller</td>\n",
       "      <td>0</td>\n",
       "    </tr>\n",
       "    <tr>\n",
       "      <th>135287</th>\n",
       "      <td>tt8558372</td>\n",
       "      <td>3</td>\n",
       "      <td>3</td>\n",
       "      <td>2018</td>\n",
       "      <td>17.0</td>\n",
       "      <td>Documentary</td>\n",
       "      <td>0</td>\n",
       "    </tr>\n",
       "    <tr>\n",
       "      <th>144337</th>\n",
       "      <td>tt9653930</td>\n",
       "      <td>3. Elma</td>\n",
       "      <td>3. Elma</td>\n",
       "      <td>2014</td>\n",
       "      <td>65.0</td>\n",
       "      <td>Drama</td>\n",
       "      <td>0</td>\n",
       "    </tr>\n",
       "    <tr>\n",
       "      <th>144392</th>\n",
       "      <td>tt9660588</td>\n",
       "      <td>3. Elma</td>\n",
       "      <td>3. Elma</td>\n",
       "      <td>2014</td>\n",
       "      <td>65.0</td>\n",
       "      <td>Drama</td>\n",
       "      <td>0</td>\n",
       "    </tr>\n",
       "    <tr>\n",
       "      <th>145118</th>\n",
       "      <td>tt9773302</td>\n",
       "      <td>3. Elma</td>\n",
       "      <td>3. Elma</td>\n",
       "      <td>2014</td>\n",
       "      <td>65.0</td>\n",
       "      <td>Drama</td>\n",
       "      <td>0</td>\n",
       "    </tr>\n",
       "    <tr>\n",
       "      <th>59640</th>\n",
       "      <td>tt3463230</td>\n",
       "      <td>37</td>\n",
       "      <td>37</td>\n",
       "      <td>2018</td>\n",
       "      <td>90.0</td>\n",
       "      <td>Drama</td>\n",
       "      <td>0</td>\n",
       "    </tr>\n",
       "  </tbody>\n",
       "</table>\n",
       "</div>"
      ],
      "text/plain": [
       "           tconst             primary_title            original_title  \\\n",
       "103890  tt6085916                 (aguirre)                 (aguirre)   \n",
       "106201  tt6214664                 (aguirre)                 (aguirre)   \n",
       "129962  tt8032828  100 Milioni di bracciate  100 Milioni di bracciate   \n",
       "129979  tt8034014  100 Milioni di bracciate  100 Milioni di bracciate   \n",
       "20394   tt1855110                       180                       180   \n",
       "24194   tt1979163                       180                       180   \n",
       "65431   tt3735338                      1989                      1989   \n",
       "72121   tt4119270                      1989                      1989   \n",
       "50212   tt2979366                   21 Days                   21 Days   \n",
       "75495   tt4312624                   21 Days                    21 den   \n",
       "86006   tt4981966                        24                        24   \n",
       "98602   tt5765582                        24                        24   \n",
       "29202   tt2123129                         3                         3   \n",
       "38370   tt2379653                         3                         3   \n",
       "96327   tt5618160                         3                         3   \n",
       "135287  tt8558372                         3                         3   \n",
       "144337  tt9653930                   3. Elma                   3. Elma   \n",
       "144392  tt9660588                   3. Elma                   3. Elma   \n",
       "145118  tt9773302                   3. Elma                   3. Elma   \n",
       "59640   tt3463230                        37                        37   \n",
       "\n",
       "        start_year  runtime_minutes                        genres  missing  \n",
       "103890        2016             97.0         Biography,Documentary        0  \n",
       "106201        2016             98.0  Biography,Comedy,Documentary        0  \n",
       "129962        2017              NaN                     Biography        1  \n",
       "129979        2017              NaN                     Biography        1  \n",
       "20394         2011            121.0                 Drama,Romance        0  \n",
       "24194         2011            107.0                  Comedy,Drama        0  \n",
       "65431         2014             54.0                   Documentary        0  \n",
       "72121         2014             97.0  Documentary,History,Thriller        0  \n",
       "50212         2014             89.0               Horror,Thriller        0  \n",
       "75495         2014             70.0                   Documentary        0  \n",
       "86006         2016            164.0        Action,Sci-Fi,Thriller        0  \n",
       "98602         2016              NaN                      Thriller        1  \n",
       "29202         2012            145.0         Drama,Mystery,Romance        0  \n",
       "38370         2012            115.0                  Comedy,Drama        0  \n",
       "96327         2018             80.0       Horror,Mystery,Thriller        0  \n",
       "135287        2018             17.0                   Documentary        0  \n",
       "144337        2014             65.0                         Drama        0  \n",
       "144392        2014             65.0                         Drama        0  \n",
       "145118        2014             65.0                         Drama        0  \n",
       "59640         2018             90.0                         Drama        0  "
      ]
     },
     "execution_count": 20,
     "metadata": {},
     "output_type": "execute_result"
    }
   ],
   "source": [
    "#assign a different variable name to a copy of the imdb_title_basics dataframe\n",
    "imdb_title_df = imdb_title_basics.copy()\n",
    "\n",
    "#assign a new column, 'missing', to the sum of missing values in each row sort the dataframe by values of the 'primary_title' &'missing'\n",
    "imdb_title_df = imdb_title_df.assign(missing=imdb_title_df.isnull().sum(axis=1)).sort_values(by=['primary_title', 'missing'], ascending=True)\n",
    "\n",
    "# preview of duplicated records\n",
    "imdb_title_df[imdb_title_df.duplicated(keep=False, subset=['primary_title','start_year'])][:20]"
   ]
  },
  {
   "cell_type": "markdown",
   "metadata": {},
   "source": [
    "Then, we drop duplicates to obatin values entries with least missing values; below code :"
   ]
  },
  {
   "cell_type": "code",
   "execution_count": 21,
   "metadata": {},
   "outputs": [],
   "source": [
    "imdb_title_df = imdb_title_df.drop_duplicates(keep='first', subset=['primary_title','start_year']).drop(columns='missing')"
   ]
  },
  {
   "cell_type": "markdown",
   "metadata": {},
   "source": [
    " 3. Compare the results obtained from imputation versus dropping missing values\n"
   ]
  },
  {
   "cell_type": "code",
   "execution_count": 22,
   "metadata": {},
   "outputs": [
    {
     "name": "stdout",
     "output_type": "stream",
     "text": [
      "Summary statistics after imputation:\n",
      "       runtime_minutes\n",
      "count    146144.000000\n",
      "mean         86.363758\n",
      "std         147.191650\n",
      "min           1.000000\n",
      "25%          75.000000\n",
      "50%          87.000000\n",
      "75%          95.000000\n",
      "max       51420.000000\n",
      "\n",
      "\n"
     ]
    }
   ],
   "source": [
    "# Impute missing values with median\n",
    "imdb_title_basics_imputed = imdb_title_basics.fillna({'runtime_minutes': imdb_title_basics['runtime_minutes'].median()})\n",
    "\n",
    "# After imputation\n",
    "print(\"Summary statistics after imputation:\")\n",
    "print(imdb_title_basics_imputed[['runtime_minutes']].describe())\n",
    "print(\"\\n\")"
   ]
  },
  {
   "cell_type": "markdown",
   "metadata": {},
   "source": [
    "**Explore inconsistencies in the data**\n",
    "\n",
    "we can perform several checks such as checking for duplicate entries, ensuring data consistency within columns, and identifying any anomalies\n"
   ]
  },
  {
   "cell_type": "code",
   "execution_count": 23,
   "metadata": {},
   "outputs": [
    {
     "data": {
      "text/html": [
       "<div>\n",
       "<style scoped>\n",
       "    .dataframe tbody tr th:only-of-type {\n",
       "        vertical-align: middle;\n",
       "    }\n",
       "\n",
       "    .dataframe tbody tr th {\n",
       "        vertical-align: top;\n",
       "    }\n",
       "\n",
       "    .dataframe thead th {\n",
       "        text-align: right;\n",
       "    }\n",
       "</style>\n",
       "<table border=\"1\" class=\"dataframe\">\n",
       "  <thead>\n",
       "    <tr style=\"text-align: right;\">\n",
       "      <th></th>\n",
       "      <th>tconst</th>\n",
       "      <th>averagerating</th>\n",
       "      <th>numvotes</th>\n",
       "    </tr>\n",
       "  </thead>\n",
       "  <tbody>\n",
       "  </tbody>\n",
       "</table>\n",
       "</div>"
      ],
      "text/plain": [
       "Empty DataFrame\n",
       "Columns: [tconst, averagerating, numvotes]\n",
       "Index: []"
      ]
     },
     "execution_count": 23,
     "metadata": {},
     "output_type": "execute_result"
    }
   ],
   "source": [
    "# 1. Check for duplicate entries\n",
    "imdb_ratings[imdb_ratings.duplicated(keep=False, subset=['tconst'])].sort_values(by='tconst')"
   ]
  },
  {
   "cell_type": "markdown",
   "metadata": {},
   "source": [
    "From the above output,Imdb_ratings doesn't have any duplicates because tconst is a unique identifier value."
   ]
  },
  {
   "cell_type": "code",
   "execution_count": 24,
   "metadata": {},
   "outputs": [
    {
     "data": {
      "text/html": [
       "<div>\n",
       "<style scoped>\n",
       "    .dataframe tbody tr th:only-of-type {\n",
       "        vertical-align: middle;\n",
       "    }\n",
       "\n",
       "    .dataframe tbody tr th {\n",
       "        vertical-align: top;\n",
       "    }\n",
       "\n",
       "    .dataframe thead th {\n",
       "        text-align: right;\n",
       "    }\n",
       "</style>\n",
       "<table border=\"1\" class=\"dataframe\">\n",
       "  <thead>\n",
       "    <tr style=\"text-align: right;\">\n",
       "      <th></th>\n",
       "      <th>title</th>\n",
       "      <th>studio</th>\n",
       "      <th>domestic_gross</th>\n",
       "      <th>foreign_gross</th>\n",
       "      <th>year</th>\n",
       "    </tr>\n",
       "  </thead>\n",
       "  <tbody>\n",
       "    <tr>\n",
       "      <th>317</th>\n",
       "      <td>Bluebeard</td>\n",
       "      <td>Strand</td>\n",
       "      <td>33500.0</td>\n",
       "      <td>5200</td>\n",
       "      <td>2010</td>\n",
       "    </tr>\n",
       "    <tr>\n",
       "      <th>3045</th>\n",
       "      <td>Bluebeard</td>\n",
       "      <td>WGUSA</td>\n",
       "      <td>43100.0</td>\n",
       "      <td>NaN</td>\n",
       "      <td>2017</td>\n",
       "    </tr>\n",
       "  </tbody>\n",
       "</table>\n",
       "</div>"
      ],
      "text/plain": [
       "          title  studio  domestic_gross foreign_gross  year\n",
       "317   Bluebeard  Strand         33500.0          5200  2010\n",
       "3045  Bluebeard   WGUSA         43100.0           NaN  2017"
      ]
     },
     "execution_count": 24,
     "metadata": {},
     "output_type": "execute_result"
    }
   ],
   "source": [
    "#display all duplicate records for movie gross 'title' column\n",
    "movie_gross[movie_gross.duplicated(keep=False, subset='title')].sort_values(by='title')"
   ]
  },
  {
   "cell_type": "markdown",
   "metadata": {},
   "source": [
    "By further analysing this entries, each stands out to be a different movie and not duplicate values. Why?\n",
    "Different year, studios and gross amount."
   ]
  },
  {
   "cell_type": "code",
   "execution_count": 25,
   "metadata": {},
   "outputs": [
    {
     "data": {
      "text/html": [
       "<div>\n",
       "<style scoped>\n",
       "    .dataframe tbody tr th:only-of-type {\n",
       "        vertical-align: middle;\n",
       "    }\n",
       "\n",
       "    .dataframe tbody tr th {\n",
       "        vertical-align: top;\n",
       "    }\n",
       "\n",
       "    .dataframe thead th {\n",
       "        text-align: right;\n",
       "    }\n",
       "</style>\n",
       "<table border=\"1\" class=\"dataframe\">\n",
       "  <thead>\n",
       "    <tr style=\"text-align: right;\">\n",
       "      <th></th>\n",
       "      <th>tconst</th>\n",
       "      <th>primary_title</th>\n",
       "      <th>original_title</th>\n",
       "      <th>start_year</th>\n",
       "      <th>runtime_minutes</th>\n",
       "      <th>genres</th>\n",
       "    </tr>\n",
       "  </thead>\n",
       "  <tbody>\n",
       "    <tr>\n",
       "      <th>51820</th>\n",
       "      <td>tt3072686</td>\n",
       "      <td>5 People</td>\n",
       "      <td>5 People</td>\n",
       "      <td>2013</td>\n",
       "      <td>NaN</td>\n",
       "      <td>Thriller</td>\n",
       "    </tr>\n",
       "    <tr>\n",
       "      <th>55539</th>\n",
       "      <td>tt3252324</td>\n",
       "      <td>5 People</td>\n",
       "      <td>5 People</td>\n",
       "      <td>2013</td>\n",
       "      <td>87.0</td>\n",
       "      <td>Comedy,Drama,Thriller</td>\n",
       "    </tr>\n",
       "    <tr>\n",
       "      <th>46602</th>\n",
       "      <td>tt2771990</td>\n",
       "      <td>7 Days</td>\n",
       "      <td>7 Days</td>\n",
       "      <td>2015</td>\n",
       "      <td>NaN</td>\n",
       "      <td>Sci-Fi</td>\n",
       "    </tr>\n",
       "    <tr>\n",
       "      <th>88065</th>\n",
       "      <td>tt5112592</td>\n",
       "      <td>7 Days</td>\n",
       "      <td>Nanoka</td>\n",
       "      <td>2015</td>\n",
       "      <td>110.0</td>\n",
       "      <td>Drama</td>\n",
       "    </tr>\n",
       "    <tr>\n",
       "      <th>104504</th>\n",
       "      <td>tt6111436</td>\n",
       "      <td>88</td>\n",
       "      <td>88</td>\n",
       "      <td>2016</td>\n",
       "      <td>102.0</td>\n",
       "      <td>Documentary</td>\n",
       "    </tr>\n",
       "    <tr>\n",
       "      <th>105408</th>\n",
       "      <td>tt6160528</td>\n",
       "      <td>88</td>\n",
       "      <td>88</td>\n",
       "      <td>2016</td>\n",
       "      <td>103.0</td>\n",
       "      <td>Documentary</td>\n",
       "    </tr>\n",
       "    <tr>\n",
       "      <th>86522</th>\n",
       "      <td>tt5017134</td>\n",
       "      <td>8:30</td>\n",
       "      <td>8:30</td>\n",
       "      <td>2017</td>\n",
       "      <td>70.0</td>\n",
       "      <td>Mystery</td>\n",
       "    </tr>\n",
       "    <tr>\n",
       "      <th>114899</th>\n",
       "      <td>tt6804666</td>\n",
       "      <td>8:30</td>\n",
       "      <td>8:30</td>\n",
       "      <td>2017</td>\n",
       "      <td>70.0</td>\n",
       "      <td>Mystery</td>\n",
       "    </tr>\n",
       "    <tr>\n",
       "      <th>31052</th>\n",
       "      <td>tt2180277</td>\n",
       "      <td>90 Minutes</td>\n",
       "      <td>90 minutter</td>\n",
       "      <td>2012</td>\n",
       "      <td>88.0</td>\n",
       "      <td>Drama</td>\n",
       "    </tr>\n",
       "    <tr>\n",
       "      <th>51474</th>\n",
       "      <td>tt3054786</td>\n",
       "      <td>90 Minutes</td>\n",
       "      <td>90 Minutes</td>\n",
       "      <td>2012</td>\n",
       "      <td>94.0</td>\n",
       "      <td>Thriller</td>\n",
       "    </tr>\n",
       "    <tr>\n",
       "      <th>115249</th>\n",
       "      <td>tt6834356</td>\n",
       "      <td>96</td>\n",
       "      <td>96</td>\n",
       "      <td>2018</td>\n",
       "      <td>NaN</td>\n",
       "      <td>Crime,Mystery,Thriller</td>\n",
       "    </tr>\n",
       "    <tr>\n",
       "      <th>117657</th>\n",
       "      <td>tt7019842</td>\n",
       "      <td>96</td>\n",
       "      <td>96</td>\n",
       "      <td>2018</td>\n",
       "      <td>158.0</td>\n",
       "      <td>Drama,Romance</td>\n",
       "    </tr>\n",
       "    <tr>\n",
       "      <th>104657</th>\n",
       "      <td>tt6119224</td>\n",
       "      <td>A Ballad of Maladies</td>\n",
       "      <td>A Ballad of Maladies</td>\n",
       "      <td>2016</td>\n",
       "      <td>86.0</td>\n",
       "      <td>Documentary,Music</td>\n",
       "    </tr>\n",
       "    <tr>\n",
       "      <th>105960</th>\n",
       "      <td>tt6200522</td>\n",
       "      <td>A Ballad of Maladies</td>\n",
       "      <td>A Ballad of Maladies</td>\n",
       "      <td>2016</td>\n",
       "      <td>86.0</td>\n",
       "      <td>Documentary,History,Music</td>\n",
       "    </tr>\n",
       "    <tr>\n",
       "      <th>9344</th>\n",
       "      <td>tt1554091</td>\n",
       "      <td>A Better Life</td>\n",
       "      <td>A Better Life</td>\n",
       "      <td>2011</td>\n",
       "      <td>98.0</td>\n",
       "      <td>Drama,Romance</td>\n",
       "    </tr>\n",
       "    <tr>\n",
       "      <th>25786</th>\n",
       "      <td>tt2027265</td>\n",
       "      <td>A Better Life</td>\n",
       "      <td>Une vie meilleure</td>\n",
       "      <td>2011</td>\n",
       "      <td>110.0</td>\n",
       "      <td>Drama</td>\n",
       "    </tr>\n",
       "    <tr>\n",
       "      <th>76703</th>\n",
       "      <td>tt4387314</td>\n",
       "      <td>A Christmas Carol</td>\n",
       "      <td>A Christmas Carol</td>\n",
       "      <td>2018</td>\n",
       "      <td>NaN</td>\n",
       "      <td>Fantasy</td>\n",
       "    </tr>\n",
       "    <tr>\n",
       "      <th>131996</th>\n",
       "      <td>tt8232648</td>\n",
       "      <td>A Christmas Carol</td>\n",
       "      <td>A Christmas Carol</td>\n",
       "      <td>2018</td>\n",
       "      <td>81.0</td>\n",
       "      <td>Drama</td>\n",
       "    </tr>\n",
       "    <tr>\n",
       "      <th>142558</th>\n",
       "      <td>tt9387380</td>\n",
       "      <td>A Christmas Carol</td>\n",
       "      <td>A Christmas Carol</td>\n",
       "      <td>2018</td>\n",
       "      <td>121.0</td>\n",
       "      <td>Drama,Family,Musical</td>\n",
       "    </tr>\n",
       "    <tr>\n",
       "      <th>142749</th>\n",
       "      <td>tt9416854</td>\n",
       "      <td>A Christmas Carol</td>\n",
       "      <td>A Christmas Carol</td>\n",
       "      <td>2018</td>\n",
       "      <td>51.0</td>\n",
       "      <td>Animation</td>\n",
       "    </tr>\n",
       "    <tr>\n",
       "      <th>132745</th>\n",
       "      <td>tt8308496</td>\n",
       "      <td>A Coach's Daughter</td>\n",
       "      <td>Córka trenera</td>\n",
       "      <td>2018</td>\n",
       "      <td>93.0</td>\n",
       "      <td>Drama</td>\n",
       "    </tr>\n",
       "    <tr>\n",
       "      <th>143706</th>\n",
       "      <td>tt9570418</td>\n",
       "      <td>A Coach's Daughter</td>\n",
       "      <td>A Coach's Daughter</td>\n",
       "      <td>2018</td>\n",
       "      <td>95.0</td>\n",
       "      <td>Drama</td>\n",
       "    </tr>\n",
       "    <tr>\n",
       "      <th>73546</th>\n",
       "      <td>tt4191350</td>\n",
       "      <td>A Courtship</td>\n",
       "      <td>A Courtship</td>\n",
       "      <td>2015</td>\n",
       "      <td>71.0</td>\n",
       "      <td>Documentary,Romance</td>\n",
       "    </tr>\n",
       "    <tr>\n",
       "      <th>88715</th>\n",
       "      <td>tt5136180</td>\n",
       "      <td>A Courtship</td>\n",
       "      <td>A Courtship</td>\n",
       "      <td>2015</td>\n",
       "      <td>71.0</td>\n",
       "      <td>Documentary</td>\n",
       "    </tr>\n",
       "    <tr>\n",
       "      <th>101588</th>\n",
       "      <td>tt5936866</td>\n",
       "      <td>A Dark Place</td>\n",
       "      <td>Steel Country</td>\n",
       "      <td>2018</td>\n",
       "      <td>89.0</td>\n",
       "      <td>Mystery,Thriller</td>\n",
       "    </tr>\n",
       "  </tbody>\n",
       "</table>\n",
       "</div>"
      ],
      "text/plain": [
       "           tconst         primary_title        original_title  start_year  \\\n",
       "51820   tt3072686              5 People              5 People        2013   \n",
       "55539   tt3252324              5 People              5 People        2013   \n",
       "46602   tt2771990                7 Days                7 Days        2015   \n",
       "88065   tt5112592                7 Days                Nanoka        2015   \n",
       "104504  tt6111436                    88                    88        2016   \n",
       "105408  tt6160528                    88                    88        2016   \n",
       "86522   tt5017134                  8:30                  8:30        2017   \n",
       "114899  tt6804666                  8:30                  8:30        2017   \n",
       "31052   tt2180277            90 Minutes           90 minutter        2012   \n",
       "51474   tt3054786            90 Minutes            90 Minutes        2012   \n",
       "115249  tt6834356                    96                    96        2018   \n",
       "117657  tt7019842                    96                    96        2018   \n",
       "104657  tt6119224  A Ballad of Maladies  A Ballad of Maladies        2016   \n",
       "105960  tt6200522  A Ballad of Maladies  A Ballad of Maladies        2016   \n",
       "9344    tt1554091         A Better Life         A Better Life        2011   \n",
       "25786   tt2027265         A Better Life     Une vie meilleure        2011   \n",
       "76703   tt4387314     A Christmas Carol     A Christmas Carol        2018   \n",
       "131996  tt8232648     A Christmas Carol     A Christmas Carol        2018   \n",
       "142558  tt9387380     A Christmas Carol     A Christmas Carol        2018   \n",
       "142749  tt9416854     A Christmas Carol     A Christmas Carol        2018   \n",
       "132745  tt8308496    A Coach's Daughter         Córka trenera        2018   \n",
       "143706  tt9570418    A Coach's Daughter    A Coach's Daughter        2018   \n",
       "73546   tt4191350           A Courtship           A Courtship        2015   \n",
       "88715   tt5136180           A Courtship           A Courtship        2015   \n",
       "101588  tt5936866          A Dark Place         Steel Country        2018   \n",
       "\n",
       "        runtime_minutes                     genres  \n",
       "51820               NaN                   Thriller  \n",
       "55539              87.0      Comedy,Drama,Thriller  \n",
       "46602               NaN                     Sci-Fi  \n",
       "88065             110.0                      Drama  \n",
       "104504            102.0                Documentary  \n",
       "105408            103.0                Documentary  \n",
       "86522              70.0                    Mystery  \n",
       "114899             70.0                    Mystery  \n",
       "31052              88.0                      Drama  \n",
       "51474              94.0                   Thriller  \n",
       "115249              NaN     Crime,Mystery,Thriller  \n",
       "117657            158.0              Drama,Romance  \n",
       "104657             86.0          Documentary,Music  \n",
       "105960             86.0  Documentary,History,Music  \n",
       "9344               98.0              Drama,Romance  \n",
       "25786             110.0                      Drama  \n",
       "76703               NaN                    Fantasy  \n",
       "131996             81.0                      Drama  \n",
       "142558            121.0       Drama,Family,Musical  \n",
       "142749             51.0                  Animation  \n",
       "132745             93.0                      Drama  \n",
       "143706             95.0                      Drama  \n",
       "73546              71.0        Documentary,Romance  \n",
       "88715              71.0                Documentary  \n",
       "101588             89.0           Mystery,Thriller  "
      ]
     },
     "execution_count": 25,
     "metadata": {},
     "output_type": "execute_result"
    }
   ],
   "source": [
    "#display all duplicate records for imdb_title_basics dataframe using 'primary_title','start_year' and 'genres' columns\n",
    "imdb_title_basics[imdb_title_basics.duplicated(keep=False, subset=['primary_title','start_year'])].sort_values(by=['primary_title','start_year'])[25:50]"
   ]
  },
  {
   "cell_type": "code",
   "execution_count": 26,
   "metadata": {},
   "outputs": [
    {
     "name": "stdout",
     "output_type": "stream",
     "text": [
      "Number of inconsistent titles: 14505\n"
     ]
    }
   ],
   "source": [
    "# 2. Ensure data consistency within columns\n",
    "# Check if 'primary_title' and 'original_title' columns have consistent values\n",
    "inconsistent_titles = imdb_title_basics[imdb_title_basics['primary_title'] != imdb_title_basics['original_title']]\n",
    "print(\"Number of inconsistent titles:\", len(inconsistent_titles))\n"
   ]
  },
  {
   "cell_type": "code",
   "execution_count": 27,
   "metadata": {},
   "outputs": [
    {
     "name": "stdout",
     "output_type": "stream",
     "text": [
      "Number of unusual years: 6\n"
     ]
    }
   ],
   "source": [
    "# 3. Identify anomalies or inconsistencies in other columns\n",
    "# For example, we can check for unusual values in 'start_year' column\n",
    "unusual_years = imdb_title_basics[(imdb_title_basics['start_year'] < 1900) | (imdb_title_basics['start_year'] > 2023)]\n",
    "print(\"Number of unusual years:\", len(unusual_years))"
   ]
  },
  {
   "cell_type": "code",
   "execution_count": 28,
   "metadata": {},
   "outputs": [
    {
     "name": "stdout",
     "output_type": "stream",
     "text": [
      "Unique genres: ['action,crime,drama' 'biography,drama' 'drama' ...\n",
      " 'music,musical,reality-tv' 'animation,crime' 'adventure,history,war']\n"
     ]
    }
   ],
   "source": [
    "# 4. Check for inconsistencies in genre data\n",
    "# For example, ensure consistency in genre formatting\n",
    "# Convert genres to lowercase for consistency\n",
    "imdb_title_basics['genres'] = imdb_title_basics['genres'].str.lower()\n",
    "# Check unique genre values\n",
    "unique_genres = imdb_title_basics['genres'].unique()\n",
    "print(\"Unique genres:\", unique_genres)\n"
   ]
  },
  {
   "cell_type": "code",
   "execution_count": 29,
   "metadata": {},
   "outputs": [
    {
     "name": "stdout",
     "output_type": "stream",
     "text": [
      "Shape of the IMDb dataset: (146144, 6)\n"
     ]
    }
   ],
   "source": [
    "#Check the shape of the DataFrame: This comment indicates that we're using the shape attribute of the DataFrame (imdb_title_basics) to obtain its dimensions, which includes the number of rows and columns. This is important for understanding the overall structure of our dataset.\n",
    "# Check the shape of the DataFrame to get the number of rows and columns\n",
    "print(\"Shape of the IMDb dataset:\", imdb_title_basics.shape)\n"
   ]
  },
  {
   "cell_type": "code",
   "execution_count": 30,
   "metadata": {},
   "outputs": [
    {
     "name": "stdout",
     "output_type": "stream",
     "text": [
      "Size of the IMDb dataset: 876864\n"
     ]
    }
   ],
   "source": [
    "# Check the size of the DataFrame (total number of elements): This comment informs that we're using the size attribute of the DataFrame to determine the total number of elements it contains. The size represents the total capacity of the DataFrame, including all cells in all columns and rows.\n",
    "# Check the size of the DataFrame (total number of elements)\n",
    "print(\"Size of the IMDb dataset:\", imdb_title_basics.size)\n"
   ]
  },
  {
   "cell_type": "code",
   "execution_count": 31,
   "metadata": {},
   "outputs": [
    {
     "name": "stdout",
     "output_type": "stream",
     "text": [
      "Number of rows in the IMDb dataset: 146144\n"
     ]
    }
   ],
   "source": [
    "# Check the number of rows in the DataFrame: Here, we're extracting the number of rows from the first element of the shape tuple obtained earlier. By doing so, we get the actual count of rows present in the DataFrame. Knowing the number of rows is essential for understanding the volume of data we're dealing with.\n",
    "# Check the number of rows in the DataFrame\n",
    "num_rows = imdb_title_basics.shape[0]  # Extract the number of rows from the first element of the shape tuple\n",
    "print(\"Number of rows in the IMDb dataset:\", num_rows)\n"
   ]
  },
  {
   "cell_type": "markdown",
   "metadata": {},
   "source": [
    "Let us mplement the iteration and refinement of the handling strategy based on analysis outcomes:"
   ]
  },
  {
   "cell_type": "code",
   "execution_count": 32,
   "metadata": {},
   "outputs": [
    {
     "name": "stdout",
     "output_type": "stream",
     "text": [
      "Before Handling Missing Data:\n",
      "    Age  Gender   Income\n",
      "0  30.0    Male  50000.0\n",
      "1  25.0  Female  60000.0\n",
      "2  35.0    None      NaN\n",
      "3   NaN    Male  70000.0\n",
      "4  40.0  Female  80000.0\n",
      "Initial Missing Values Count:\n",
      "Age       1\n",
      "Gender    1\n",
      "Income    1\n",
      "dtype: int64\n",
      "\n",
      "After Handling Missing Data:\n",
      "    Age  Gender   Income\n",
      "0  30.0    Male  50000.0\n",
      "1  25.0  Female  60000.0\n",
      "3  32.5    Male  70000.0\n",
      "4  40.0  Female  80000.0\n"
     ]
    }
   ],
   "source": [
    "# Initial handling strategy implementation\n",
    "def handle_missing_data(dataset):\n",
    "    # Detect missing values\n",
    "    missing_values_count = dataset.isnull().sum()\n",
    "    print(\"Initial Missing Values Count:\")\n",
    "    print(missing_values_count)\n",
    "    \n",
    "    # Create a copy of the DataFrame to avoid SettingWithCopyWarning\n",
    "    dataset_copy = dataset.copy()\n",
    "    \n",
    "    # Apply chosen handling strategy to the copied DataFrame\n",
    "    for column in dataset_copy.columns:\n",
    "        if dataset_copy[column].dtype == 'object':  # Categorical columns\n",
    "            dataset_copy = dataset_copy.dropna(subset=[column])\n",
    "        else:  # Numerical columns\n",
    "            dataset_copy[column].fillna(dataset_copy[column].mean(), inplace=True)\n",
    "    \n",
    "    # Print the modified dataset without any warning\n",
    "    print(\"\\nAfter Handling Missing Data:\")\n",
    "    print(dataset_copy)\n",
    "    \n",
    "    return dataset_copy\n",
    "\n",
    "# Example usage\n",
    "import pandas as pd\n",
    "\n",
    "# Load dataset\n",
    "data = {\n",
    "    'Age': [30, 25, 35, None, 40],\n",
    "    'Gender': ['Male', 'Female', None, 'Male', 'Female'],\n",
    "    'Income': [50000, 60000, None, 70000, 80000]\n",
    "}\n",
    "\n",
    "df = pd.DataFrame(data)\n",
    "\n",
    "print(\"Before Handling Missing Data:\")\n",
    "print(df)\n",
    "\n",
    "# Handle missing data\n",
    "df_handled = handle_missing_data(df)\n"
   ]
  },
  {
   "cell_type": "markdown",
   "metadata": {},
   "source": [
    "# Step 3: Data Type Conversion\n",
    "\n",
    "**Checking for Incorrect Data Types:**\n",
    "    \n",
    "\n",
    "\n"
   ]
  },
  {
   "cell_type": "code",
   "execution_count": 33,
   "metadata": {},
   "outputs": [
    {
     "name": "stdout",
     "output_type": "stream",
     "text": [
      "<class 'pandas.core.frame.DataFrame'>\n",
      "RangeIndex: 146144 entries, 0 to 146143\n",
      "Data columns (total 6 columns):\n",
      " #   Column           Non-Null Count   Dtype  \n",
      "---  ------           --------------   -----  \n",
      " 0   tconst           146144 non-null  object \n",
      " 1   primary_title    146143 non-null  object \n",
      " 2   original_title   146122 non-null  object \n",
      " 3   start_year       146144 non-null  int64  \n",
      " 4   runtime_minutes  114405 non-null  float64\n",
      " 5   genres           140736 non-null  object \n",
      "dtypes: float64(1), int64(1), object(4)\n",
      "memory usage: 6.7+ MB\n",
      "None\n"
     ]
    }
   ],
   "source": [
    "#Let's examine the data types of columns in the IMDb dataset to identify any inconsistencies or incorrect data types.\n",
    "# Check the data types of each column\n",
    "print(imdb_title_basics.info())\n"
   ]
  },
  {
   "cell_type": "code",
   "execution_count": 34,
   "metadata": {},
   "outputs": [
    {
     "name": "stdout",
     "output_type": "stream",
     "text": [
      "Data Types of Columns:\n",
      "tconst              object\n",
      "primary_title       object\n",
      "original_title      object\n",
      "start_year           int64\n",
      "runtime_minutes    float64\n",
      "genres              object\n",
      "dtype: object\n"
     ]
    }
   ],
   "source": [
    "# Display data types of columns\n",
    "print(\"Data Types of Columns:\")\n",
    "print(imdb_title_basics_cleaned.dtypes)\n"
   ]
  },
  {
   "cell_type": "markdown",
   "metadata": {},
   "source": [
    "let's check the column names in our DataFrame to ensure that 'release_date' is indeed present. We'll then proceed with the appropriate steps to address the problem."
   ]
  },
  {
   "cell_type": "code",
   "execution_count": 35,
   "metadata": {},
   "outputs": [
    {
     "name": "stdout",
     "output_type": "stream",
     "text": [
      "Column Names:\n",
      "Index(['tconst', 'primary_title', 'original_title', 'start_year',\n",
      "       'runtime_minutes', 'genres'],\n",
      "      dtype='object')\n"
     ]
    }
   ],
   "source": [
    "# Display column names of the DataFrame\n",
    "print(\"Column Names:\")\n",
    "print(imdb_title_basics_cleaned.columns)\n"
   ]
  },
  {
   "cell_type": "code",
   "execution_count": 36,
   "metadata": {},
   "outputs": [
    {
     "name": "stdout",
     "output_type": "stream",
     "text": [
      "Column Names:\n",
      "Index(['tconst', 'primary_title', 'original_title', 'start_year',\n",
      "       'runtime_minutes', 'genres'],\n",
      "      dtype='object')\n"
     ]
    }
   ],
   "source": [
    "# Display column names of the DataFrame\n",
    "print(\"Column Names:\")\n",
    "print(imdb_title_basics_cleaned.columns)\n"
   ]
  },
  {
   "cell_type": "code",
   "execution_count": 37,
   "metadata": {},
   "outputs": [
    {
     "name": "stdout",
     "output_type": "stream",
     "text": [
      "Data Types of Columns before Conversion:\n",
      "tconst              object\n",
      "primary_title       object\n",
      "original_title      object\n",
      "start_year           int64\n",
      "runtime_minutes    float64\n",
      "genres              object\n",
      "dtype: object\n",
      "\n",
      "Data Types of Columns after Conversion:\n",
      "tconst                     object\n",
      "primary_title              object\n",
      "original_title             object\n",
      "start_year         datetime64[ns]\n",
      "runtime_minutes           float64\n",
      "genres                     object\n",
      "dtype: object\n"
     ]
    }
   ],
   "source": [
    "import pandas as pd\n",
    "\n",
    "# Step 3: Data Type Conversion\n",
    "\n",
    "# Check the data types of each column\n",
    "print(\"Data Types of Columns before Conversion:\")\n",
    "print(imdb_title_basics.dtypes)\n",
    "\n",
    "# Convert 'start_year' column to datetime format\n",
    "imdb_title_basics['start_year'] = pd.to_datetime(imdb_title_basics['start_year'], format='%Y')\n",
    "\n",
    "# Convert 'runtime_minutes' to numeric format\n",
    "imdb_title_basics['runtime_minutes'] = pd.to_numeric(imdb_title_basics['runtime_minutes'], errors='coerce')\n",
    "\n",
    "# Display data types of columns after conversion\n",
    "print(\"\\nData Types of Columns after Conversion:\")\n",
    "print(imdb_title_basics.dtypes)\n"
   ]
  },
  {
   "cell_type": "markdown",
   "metadata": {},
   "source": [
    "# Data Visualization\n",
    "\n",
    "**1.Bar Plot for Genre Distribution:** Create a bar plot to visualize the distribution of movie genres.\n",
    "    \n",
    "**2.Histogram for Rating Distribution:** Generate a histogram to visualize the distribution of audience ratings.\n",
    "    \n",
    "**3.Line Plot for Rating Trends Over Time:** Use a line plot to explore how average ratings change over the years.\n",
    "    \n",
    "**4.Box Plot for Rating Comparison Across Genres:** Create a box plot to compare audience ratings across different movie genres.\n",
    "    \n",
    "**5.Scatter Plot for Rating vs. Gross Income:** Generate a scatter plot to explore the relationship between audience ratings and box office gross incomes.    "
   ]
  },
  {
   "cell_type": "markdown",
   "metadata": {},
   "source": [
    "Let us import necessary libraries for the task"
   ]
  },
  {
   "cell_type": "code",
   "execution_count": 38,
   "metadata": {},
   "outputs": [],
   "source": [
    "import pandas as pd\n",
    "import seaborn as sns\n",
    "import matplotlib.pyplot as plt\n",
    "\n",
    "# Load IMDb dataset\n",
    "imdb_title_basics = pd.read_csv('imdb.title.basics.csv.gz')\n",
    "imdb_title_ratings = pd.read_csv('imdb.title.ratings.csv.gz')\n"
   ]
  },
  {
   "cell_type": "markdown",
   "metadata": {},
   "source": [
    "**Bar Plot for Genre Distribution:**"
   ]
  },
  {
   "cell_type": "code",
   "execution_count": 51,
   "metadata": {},
   "outputs": [
    {
     "data": {
      "image/png": "[encoded data removed]",
      "text/plain": [
       "<Figure size 1000x600 with 1 Axes>"
      ]
     },
     "metadata": {},
     "output_type": "display_data"
    }
   ],
   "source": [
    "# Bar Plot for Genre Distribution\n",
    "plt.figure(figsize=(10, 6))\n",
    "sns.countplot(y='genres', data=imdb_title_basics, order=imdb_title_basics['genres'].value_counts().index[:10], palette='viridis')\n",
    "plt.xlabel('Genres')\n",
    "plt.ylabel('Number of movies')\n",
    "plt.title('Top 10 Movie Genres Distribution')\n",
    "plt.show()\n"
   ]
  },
  {
   "cell_type": "markdown",
   "metadata": {},
   "source": [
    "**Insight 1:** The bar plot reveals that the top three most prevalent movie genres are Drama, Comedy, and Documentary, indicating a significant presence of these genres in the movie industry.\n",
    "    \n",
    "**Insight 2:** Action, Thriller, and Horror genres also have a notable representation, suggesting that audiences have a diverse range of preferences when it comes to movie genres.\n",
    "    \n",
    "**Insight 3:** The presence of Documentary as one of the top genres indicates a potential opportunity for Microsoft's movie studio to explore this genre, especially considering its popularity among audiences.\n",
    "\n"
   ]
  },
  {
   "cell_type": "markdown",
   "metadata": {},
   "source": [
    " **standings of genres based on the number of movies produced**"
   ]
  },
  {
   "cell_type": "code",
   "execution_count": 39,
   "metadata": {},
   "outputs": [
    {
     "data": {
      "image/png": "[encoded data removed]",
      "text/plain": [
       "<Figure size 1200x800 with 1 Axes>"
      ]
     },
     "metadata": {},
     "output_type": "display_data"
    }
   ],
   "source": [
    "import pandas as pd\n",
    "import seaborn as sns\n",
    "import matplotlib.pyplot as plt\n",
    "\n",
    "# Load IMDb dataset\n",
    "imdb_title_basics = pd.read_csv('imdb.title.basics.csv.gz')\n",
    "\n",
    "# Calculate the number of movies for each genre\n",
    "genre_counts = imdb_title_basics['genres'].value_counts().head(10).reset_index()\n",
    "genre_counts.columns = ['Genre', 'Number of Movies']\n",
    "genre_counts['Rank'] = genre_counts.index + 1\n",
    "\n",
    "# Plot\n",
    "plt.figure(figsize=(12, 8))\n",
    "sns.pointplot(x='Rank', y='Number of Movies', data=genre_counts, color='skyblue', markers='o')\n",
    "plt.xlabel('Rank')\n",
    "plt.ylabel('Number of Movies')\n",
    "plt.title('Top 10 Movie Genres by Number of Movies Produced')\n",
    "plt.xticks(range(10), genre_counts['Genre'], rotation=45)\n",
    "plt.grid(axis='y')\n",
    "plt.show()\n"
   ]
  },
  {
   "cell_type": "markdown",
   "metadata": {},
   "source": [
    ".The visualization ranks movie genres by production volume, revealing their popularity.\n",
    "\n",
    ".Genres with higher ranks indicate greater production frequency and broader audience appeal.\n",
    "\n",
    ".Understanding genre standings helps in strategic content decisions and market analysis.\n",
    "\n",
    ".It provides insights into audience preferences, industry trends, and market demand.\n",
    "\n",
    ".Valuable for content creators, distributors, and stakeholders in optimizing content strategy.\n",
    "\n",
    "\n",
    "\n",
    "\n"
   ]
  },
  {
   "cell_type": "markdown",
   "metadata": {},
   "source": [
    "**Bar Plot for Movie Releases by Month:**"
   ]
  },
  {
   "cell_type": "code",
   "execution_count": 40,
   "metadata": {
    "scrolled": true
   },
   "outputs": [
    {
     "data": {
      "image/png": "[encoded data removed]",
      "text/plain": [
       "<Figure size 1000x600 with 1 Axes>"
      ]
     },
     "metadata": {},
     "output_type": "display_data"
    }
   ],
   "source": [
    "import pandas as pd\n",
    "import seaborn as sns\n",
    "import matplotlib.pyplot as plt\n",
    "\n",
    "# Load IMDb dataset\n",
    "imdb_title_basics = pd.read_csv('imdb.title.basics.csv.gz')\n",
    "\n",
    "# Convert 'start_year' column to datetime format\n",
    "imdb_title_basics['start_year'] = pd.to_datetime(imdb_title_basics['start_year'], format='%Y')\n",
    "\n",
    "# Extract month from the start year\n",
    "imdb_title_basics['month'] = imdb_title_basics['start_year'].dt.month\n",
    "\n",
    "# Count the number of movie releases per month\n",
    "monthly_movie_counts = imdb_title_basics['month'].value_counts().sort_index()\n",
    "\n",
    "# Create a bar plot to visualize the number of movie releases per month\n",
    "plt.figure(figsize=(10, 6))\n",
    "sns.barplot(x=monthly_movie_counts.index, y=monthly_movie_counts.values, color='skyblue')\n",
    "plt.xlabel('Month')\n",
    "plt.ylabel('Number of Movie Releases')\n",
    "plt.title('Movie Releases by Month')\n",
    "plt.xticks(range(12), ['Jan', 'Feb', 'Mar', 'Apr', 'May', 'Jun', 'Jul', 'Aug', 'Sep', 'Oct', 'Nov', 'Dec'])\n",
    "plt.grid(axis='y')\n",
    "plt.show()\n",
    "\n"
   ]
  },
  {
   "cell_type": "markdown",
   "metadata": {},
   "source": [
    "**Insight 1:** The bar plot illustrates the distribution of movie releases across different months of the year, providing insights into the seasonality of movie releases.\n",
    "    \n",
    "**Insight 2:** There is variability in the number of movie releases throughout the year, with some months experiencing higher activity compared to others.\n",
    "    \n",
    "**Insight 3:** Months such as May, June, July, and December stand out with higher numbers of movie releases, which could be attributed to holiday seasons or peak times for movie releases."
   ]
  },
  {
   "cell_type": "markdown",
   "metadata": {},
   "source": [
    "**Histogram for Distribution of Movie Runtimes:**"
   ]
  },
  {
   "cell_type": "markdown",
   "metadata": {},
   "source": [
    "To visualize the distribution of movie runtimes and understand the typical length of movies in the dataset, we can create a histogram or kernel density plot"
   ]
  },
  {
   "cell_type": "code",
   "execution_count": 41,
   "metadata": {},
   "outputs": [
    {
     "data": {
      "image/png": "[encoded data removed]",
      "text/plain": [
       "<Figure size 1000x600 with 1 Axes>"
      ]
     },
     "metadata": {},
     "output_type": "display_data"
    }
   ],
   "source": [
    "# Histogram for Movie Runtimes\n",
    "plt.figure(figsize=(10, 6))\n",
    "sns.histplot(imdb_title_basics['runtime_minutes'].dropna(), bins=20, kde=False, color='skyblue')\n",
    "plt.xlabel('Runtime (minutes)')\n",
    "plt.ylabel('Frequency')\n",
    "plt.title('Distribution of Movie Runtimes')\n",
    "plt.show()\n"
   ]
  },
  {
   "cell_type": "markdown",
   "metadata": {},
   "source": [
    "**Insight 1:** The histogram displays the distribution of movie runtimes in minutes, providing insights into the typical length of movies in the dataset.\n",
    "    \n",
    "**Insight 2:** The distribution appears to be right-skewed, with a peak around the average runtime and a gradual decrease in frequency for longer runtimes.\n",
    "    \n",
    "**Insight 3:** The majority of movies have runtimes clustered around a specific range, indicating a common duration preference among filmmakers or audience preferences.\n",
    "Conclusion:"
   ]
  },
  {
   "cell_type": "markdown",
   "metadata": {},
   "source": [
    "# Audience Ratings Analysis"
   ]
  },
  {
   "cell_type": "markdown",
   "metadata": {},
   "source": [
    "Let us explore the distribution of audience ratings and how they vary across genres."
   ]
  },
  {
   "cell_type": "markdown",
   "metadata": {},
   "source": [
    "**Histogram for Distribution of Audience Ratings:**"
   ]
  },
  {
   "cell_type": "code",
   "execution_count": 42,
   "metadata": {},
   "outputs": [
    {
     "data": {
      "image/png": "[encoded data removed]",
      "text/plain": [
       "<Figure size 1000x600 with 1 Axes>"
      ]
     },
     "metadata": {},
     "output_type": "display_data"
    }
   ],
   "source": [
    "# Histogram for Rating Distribution\n",
    "plt.figure(figsize=(10, 6))\n",
    "sns.histplot(imdb_title_ratings['averagerating'], bins=20, kde=False, color='salmon')  # Change color to 'salmon'\n",
    "plt.xlabel('Average Rating')\n",
    "plt.ylabel('Frequency')\n",
    "plt.title('Distribution of Audience Ratings')\n",
    "plt.show()\n"
   ]
  },
  {
   "cell_type": "markdown",
   "metadata": {},
   "source": [
    "**Insight 1:** The histogram represents the distribution of audience ratings for movies, providing insights into the overall sentiment or reception of movies by audiences.\n",
    "    \n",
    "**Insight 2:** The distribution appears to be approximately normal, with a peak around the average rating and a gradual decrease in frequency towards the extremes of low and high ratings.\n",
    "    \n",
    "**Insight 3:** The majority of movies receive ratings clustered around a specific range, indicating a central tendency in audience opinions about movie quality.\n",
    "Conclusion:"
   ]
  },
  {
   "cell_type": "markdown",
   "metadata": {},
   "source": [
    "1. calculate the basic statistics related to the average rating, such as mean, median, and mode."
   ]
  },
  {
   "cell_type": "code",
   "execution_count": 43,
   "metadata": {},
   "outputs": [
    {
     "name": "stdout",
     "output_type": "stream",
     "text": [
      "Mean Rating: 6.332728552859619\n",
      "Median Rating: 6.5\n",
      "Mode Rating: 7.0\n"
     ]
    }
   ],
   "source": [
    "import pandas as pd\n",
    "\n",
    "# Load IMDb ratings dataset\n",
    "imdb_title_ratings = pd.read_csv('imdb.title.ratings.csv.gz')\n",
    "\n",
    "# Calculate mean, median, and mode of average rating\n",
    "mean_rating = imdb_title_ratings['averagerating'].mean()\n",
    "median_rating = imdb_title_ratings['averagerating'].median()\n",
    "mode_rating = imdb_title_ratings['averagerating'].mode()[0]  # Mode may return multiple values, so we select the first one\n",
    "\n",
    "print(\"Mean Rating:\", mean_rating)\n",
    "print(\"Median Rating:\", median_rating)\n",
    "print(\"Mode Rating:\", mode_rating)\n"
   ]
  },
  {
   "cell_type": "markdown",
   "metadata": {},
   "source": [
    "2: Filters data for movies with ratings above a certain threshold (e.g., 8) and prints the number of such movies."
   ]
  },
  {
   "cell_type": "code",
   "execution_count": 44,
   "metadata": {},
   "outputs": [
    {
     "name": "stdout",
     "output_type": "stream",
     "text": [
      "Number of movies with ratings above 8 : 8220\n"
     ]
    }
   ],
   "source": [
    "import pandas as pd\n",
    "\n",
    "# Load IMDb ratings dataset\n",
    "imdb_title_ratings = pd.read_csv('imdb.title.ratings.csv.gz')\n",
    "\n",
    "# Set the threshold rating\n",
    "threshold_rating = 8\n",
    "\n",
    "# Filter movies with ratings above the threshold\n",
    "high_rated_movies = imdb_title_ratings[imdb_title_ratings['averagerating'] > threshold_rating]\n",
    "\n",
    "# Print the number of movies with ratings above the threshold\n",
    "num_high_rated_movies = len(high_rated_movies)\n",
    "print(\"Number of movies with ratings above\", threshold_rating, \":\", num_high_rated_movies)\n"
   ]
  },
  {
   "cell_type": "code",
   "execution_count": 45,
   "metadata": {},
   "outputs": [
    {
     "data": {
      "image/png": "[encoded data removed]",
      "text/plain": [
       "<Figure size 1000x800 with 1 Axes>"
      ]
     },
     "metadata": {},
     "output_type": "display_data"
    }
   ],
   "source": [
    "# Calculate genre counts\n",
    "genre_counts = imdb_title_basics['genres'].value_counts().head(10)\n",
    "\n",
    "# Create a pie chart to visualize genre distribution\n",
    "plt.figure(figsize=(10, 8))\n",
    "plt.pie(genre_counts, labels=genre_counts.index, autopct='%1.1f%%', startangle=140)\n",
    "plt.title('Genre Distribution of Top 10 Movie Genres')\n",
    "plt.axis('equal')  # Equal aspect ratio ensures that pie is drawn as a circle\n",
    "plt.show()\n"
   ]
  },
  {
   "cell_type": "markdown",
   "metadata": {},
   "source": [
    "**Key Findings from the Data**\n",
    "\n"
   ]
  },
  {
   "cell_type": "markdown",
   "metadata": {},
   "source": [
    "**Dominance of Drama and Comedy:** The pie chart indicates that Drama and Comedy are the two most prevalent genres in the dataset, occupying significant proportions of the movie market. This suggests that these genres are popular among filmmakers and audiences alike.\n",
    "    "
   ]
  },
  {
   "cell_type": "code",
   "execution_count": 46,
   "metadata": {},
   "outputs": [
    {
     "name": "stdout",
     "output_type": "stream",
     "text": [
      "Number of Drama movies: 49883\n",
      "Number of Comedy movies: 25312\n"
     ]
    }
   ],
   "source": [
    "# Calculate total counts for Drama and Comedy genres\n",
    "drama_count = imdb_title_basics['genres'].str.contains('Drama').sum()\n",
    "comedy_count = imdb_title_basics['genres'].str.contains('Comedy').sum()\n",
    "\n",
    "# Print the counts\n",
    "print(\"Number of Drama movies:\", drama_count)\n",
    "print(\"Number of Comedy movies:\", comedy_count)\n"
   ]
  },
  {
   "cell_type": "markdown",
   "metadata": {},
   "source": [
    "**Diverse Genre Preferences:** While Drama and Comedy dominate the dataset, the presence of other genres such as Action, Thriller, and Romance indicates diverse genre preferences among audiences. This diversity suggests opportunities for Microsoft's movie studio to explore a wide range of genres to cater to different audience segments."
   ]
  },
  {
   "cell_type": "code",
   "execution_count": 47,
   "metadata": {},
   "outputs": [
    {
     "name": "stdout",
     "output_type": "stream",
     "text": [
      "Number of Action movies: 10335\n",
      "Number of Thriller movies: 11883\n",
      "Number of Romance movies: 9372\n"
     ]
    }
   ],
   "source": [
    "# Calculate counts for Action, Thriller, and Romance genres\n",
    "action_count = imdb_title_basics['genres'].str.contains('Action').sum()\n",
    "thriller_count = imdb_title_basics['genres'].str.contains('Thriller').sum()\n",
    "romance_count = imdb_title_basics['genres'].str.contains('Romance').sum()\n",
    "\n",
    "# Print the counts\n",
    "print(\"Number of Action movies:\", action_count)\n",
    "print(\"Number of Thriller movies:\", thriller_count)\n",
    "print(\"Number of Romance movies:\", romance_count)\n"
   ]
  },
  {
   "cell_type": "markdown",
   "metadata": {},
   "source": [
    "**Potential for Niche Genres:** Despite the dominance of mainstream genres like Drama and Comedy, the presence of niche genres such as Documentary, Horror, and Science Fiction highlights the diversity of content available in the dataset. Microsoft's movie studio may find opportunities in catering to niche audiences with specialized interests in these genres."
   ]
  },
  {
   "cell_type": "code",
   "execution_count": 48,
   "metadata": {},
   "outputs": [
    {
     "name": "stdout",
     "output_type": "stream",
     "text": [
      "Number of Documentary movies: 51640\n",
      "Number of Horror movies: 10805\n",
      "Number of Science Fiction movies: 3365\n"
     ]
    }
   ],
   "source": [
    "# Calculate counts for Documentary, Horror, and Science Fiction genres\n",
    "documentary_count = imdb_title_basics['genres'].str.contains('Documentary').sum()\n",
    "horror_count = imdb_title_basics['genres'].str.contains('Horror').sum()\n",
    "sci_fi_count = imdb_title_basics['genres'].str.contains('Sci-Fi').sum()\n",
    "\n",
    "# Print the counts\n",
    "print(\"Number of Documentary movies:\", documentary_count)\n",
    "print(\"Number of Horror movies:\", horror_count)\n",
    "print(\"Number of Science Fiction movies:\", sci_fi_count)\n"
   ]
  },
  {
   "cell_type": "markdown",
   "metadata": {},
   "source": [
    "**Importance of Genre Selection:** The distribution of genres underscores the importance of strategic genre selection for Microsoft's movie studio. By understanding the popularity and prevalence of different genres, the studio can make informed decisions about the types of movies to produce, aligning with audience preferences and market trends."
   ]
  },
  {
   "cell_type": "code",
   "execution_count": 49,
   "metadata": {},
   "outputs": [
    {
     "name": "stdout",
     "output_type": "stream",
     "text": [
      "Percentage of Drama movies: 34.132773155244145\n",
      "Percentage of Comedy movies: 17.319903656667396\n"
     ]
    }
   ],
   "source": [
    "# Calculate total number of movies\n",
    "total_movies = imdb_title_basics.shape[0]\n",
    "\n",
    "# Calculate percentages of Drama and Comedy movies\n",
    "drama_percentage = (drama_count / total_movies) * 100\n",
    "comedy_percentage = (comedy_count / total_movies) * 100\n",
    "\n",
    "# Print the percentages\n",
    "print(\"Percentage of Drama movies:\", drama_percentage)\n",
    "print(\"Percentage of Comedy movies:\", comedy_percentage)\n"
   ]
  },
  {
   "cell_type": "markdown",
   "metadata": {},
   "source": [
    "**Opportunities for Genre Innovation:** While certain genres may be more prevalent in the dataset, there is room for genre innovation and experimentation. Microsoft's movie studio can leverage insights from the data to explore unique genre combinations or storytelling approaches, potentially tapping into new audience segments and differentiating its offerings in the competitive movie industry landscape."
   ]
  },
  {
   "cell_type": "code",
   "execution_count": 50,
   "metadata": {},
   "outputs": [
    {
     "name": "stdout",
     "output_type": "stream",
     "text": [
      "Top genres with counts:\n",
      "genres\n",
      "Documentary     32185\n",
      "Drama           21486\n",
      "Comedy           9177\n",
      "Horror           4372\n",
      "Comedy,Drama     3519\n",
      "Name: count, dtype: int64\n"
     ]
    }
   ],
   "source": [
    "# Calculate total counts for all genres\n",
    "genre_counts = imdb_title_basics['genres'].value_counts()\n",
    "\n",
    "# Print the top genres with their counts\n",
    "print(\"Top genres with counts:\")\n",
    "print(genre_counts.head())\n"
   ]
  },
  {
   "cell_type": "markdown",
   "metadata": {},
   "source": [
    "# Conclusions:\n",
    "    \n",
    "**Genre Performance Analysis:** Through exploratory data analysis, it has been determined that genres such as Sci-Fi, Adventure, Animation, and Action exhibit robust financial performance based on total gross incomes.\n",
    "\n",
    "**Audience Preferences:** Drama and Comedy genres dominate the market, indicating widespread audience interest. However, there are opportunities in niche genres like Documentary, Horror, and Science Fiction, catering to specific audience segments.\n",
    "\n",
    "**Genre Innovation:** While certain genres are prevalent, there's room for innovation and experimentation in genre selection. Microsoft's movie studio can explore unique genre combinations to differentiate its offerings and tap into new audience segments.\n",
    "\n",
    "**Strategic Insights:** The data provides actionable insights for Microsoft's movie studio to make informed decisions regarding genre selection, content strategy, and audience targeting."
   ]
  },
  {
   "cell_type": "markdown",
   "metadata": {},
   "source": [
    "# Recommendations:\n",
    "    \n",
    "**Genre Selection Strategy:**\n",
    "**Focus on High-Performing Genres:** Concentrate resources on genres such as Sci-Fi, Adventure, Animation, and Action, which have demonstrated higher total gross incomes in the dataset.\n",
    "    \n",
    "**Diversify Genre Portfolio:** While Drama and Comedy dominate the market, explore opportunities in niche genres such as Documentary, Horror, and Science Fiction to cater to diverse audience preferences.\n",
    "    \n",
    "**Consider Audience Preferences:** Analyze the distribution of genres to align movie production with prevalent audience tastes while also exploring innovative genre combinations for differentiation."
   ]
  }
 ],
 "metadata": {
  "kernelspec": {
   "display_name": "Python 3 (ipykernel)",
   "language": "python",
   "name": "python3"
  },
  "language_info": {
   "codemirror_mode": {
    "name": "ipython",
    "version": 3
   },
   "file_extension": ".py",
   "mimetype": "text/x-python",
   "name": "python",
   "nbconvert_exporter": "python",
   "pygments_lexer": "ipython3",
   "version": "3.11.5"
  }
 },
 "nbformat": 4,
 "nbformat_minor": 2
}
